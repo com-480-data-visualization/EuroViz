{
 "cells": [
  {
   "cell_type": "code",
   "execution_count": null,
   "id": "6a067e61",
   "metadata": {},
   "outputs": [],
   "source": [
    "# imports\n",
    "import numpy as np\n",
    "import pandas as pd\n",
    "import json"
   ]
  },
  {
   "cell_type": "code",
   "execution_count": null,
   "id": "0d45150b",
   "metadata": {},
   "outputs": [],
   "source": [
    "country_map = {\n",
    "    \"nl\": \"Netherlands\",\n",
    "    \"fr\": \"France\",\n",
    "    \"dk\": \"Denmark\",\n",
    "    \"lu\": \"Luxembourg\",\n",
    "    \"de\": \"Germany\",\n",
    "    \"it\": \"Italy\",\n",
    "    \"gb\": \"United Kingdom\",\n",
    "    \"be\": \"Belgium\",\n",
    "    \"ch\": \"Switzerland\",\n",
    "    \"at\": \"Austria\",\n",
    "    \"se\": \"Sweden\",\n",
    "    \"mc\": \"Monaco\",\n",
    "    \"no\": \"Norway\",\n",
    "    \"yu\": \"Yugoslavia\",\n",
    "    \"es\": \"Spain\",\n",
    "    \"fi\": \"Finland\",\n",
    "    \"pt\": \"Portugal\",\n",
    "    \"ie\": \"Ireland\",\n",
    "    \"mt\": \"Malta\",\n",
    "    \"il\": \"Israel\",\n",
    "    \"gr\": \"Greece\",\n",
    "    \"tr\": \"Turkey\",\n",
    "    \"ma\": \"Morocco\",\n",
    "    \"cy\": \"Cyprus\",\n",
    "    \"is\": \"Iceland\",\n",
    "    \"hr\": \"Croatia\",\n",
    "    \"ba\": \"Bosnia and Herzegovina\",\n",
    "    \"si\": \"Slovenia\",\n",
    "    \"pl\": \"Poland\",\n",
    "    \"hu\": \"Hungary\",\n",
    "    \"ru\": \"Russia\",\n",
    "    \"sk\": \"Slovakia\",\n",
    "    \"ro\": \"Romania\",\n",
    "    \"ee\": \"Estonia\",\n",
    "    \"lt\": \"Lithuania\",\n",
    "    \"mk\": \"North Macedonia\",\n",
    "    \"lv\": \"Latvia\",\n",
    "    \"ua\": \"Ukraine\",\n",
    "    \"cs\": \"Serbia and Montenegro\",\n",
    "    \"al\": \"Albania\",\n",
    "    \"ad\": \"Andorra\",\n",
    "    \"by\": \"Belarus\",\n",
    "    \"md\": \"Moldova\",\n",
    "    \"bg\": \"Bulgaria\",\n",
    "    \"am\": \"Armenia\",\n",
    "    \"rs\": \"Serbia\",\n",
    "    \"ge\": \"Georgia\",\n",
    "    \"me\": \"Montenegro\",\n",
    "    \"cz\": \"Czech Republic\",\n",
    "    \"az\": \"Azerbaijan\",\n",
    "    \"sm\": \"San Marino\",\n",
    "    \"au\": \"Australia\"\n",
    "}\n",
    "\n",
    "votes_df = pd.read_csv('votes.csv')\n",
    "votes_df['to_country'] = votes_df['to_country'].map(country_map)\n",
    "votes_df['from_country'] = votes_df['from_country'].map(country_map)"
   ]
  },
  {
   "cell_type": "code",
   "execution_count": null,
   "id": "eeadfe00",
   "metadata": {},
   "outputs": [],
   "source": [
    "incoming_votes_df = votes_df[votes_df['round'] == 'final'].drop(columns=['round', 'from_country_id', 'from_country', 'to_country_id'])\n",
    "incoming_votes_df = incoming_votes_df.groupby(['year', 'to_country']).sum().fillna(0)\n",
    "incoming_votes_df"
   ]
  },
  {
   "cell_type": "code",
   "execution_count": null,
   "id": "f4bc56c7",
   "metadata": {},
   "outputs": [],
   "source": [
    "max_votes_df = incoming_votes_df.groupby('year').max()\n",
    "max_votes_df"
   ]
  },
  {
   "cell_type": "code",
   "execution_count": null,
   "id": "6e785eaa",
   "metadata": {},
   "outputs": [],
   "source": [
    "nested_json = {}\n",
    "\n",
    "for outer_key, group_df in incoming_votes_df.groupby(level=0):\n",
    "    inner = group_df.droplevel(0)\n",
    "    nested_json[outer_key] = inner.to_dict(orient=\"index\")"
   ]
  },
  {
   "cell_type": "code",
   "execution_count": null,
   "id": "2e99ff68",
   "metadata": {},
   "outputs": [],
   "source": [
    "result_json = {}\n",
    "\n",
    "for year, countries in nested_json.items():\n",
    "    countries_json = {}\n",
    "    for country, points in countries.items():\n",
    "        if max_votes_df.loc[year]['tele_points'] != 0 and max_votes_df.loc[year]['jury_points'] != 0 :\n",
    "            votes = [int(points['total_points']), int(points['tele_points']), int(points['jury_points'])]\n",
    "            normalized = [points['total_points'] / max_votes_df.loc[year]['total_points'],\n",
    "                          points['tele_points'] / max_votes_df.loc[year]['tele_points'], \n",
    "                          points['jury_points'] / max_votes_df.loc[year]['jury_points']]\n",
    "        else:\n",
    "            votes = [int(points['total_points'])]\n",
    "            normalized = [points['total_points'] / max_votes_df.loc[year]['total_points']]\n",
    "\n",
    "        \n",
    "        countries_json[country] = {'normalized': normalized, 'votes': votes}\n",
    "\n",
    "    result_json[year] = countries_json"
   ]
  },
  {
   "cell_type": "code",
   "execution_count": null,
   "id": "159b21e6",
   "metadata": {},
   "outputs": [],
   "source": [
    "with open(\"color_map_data.json\", \"w\") as f:\n",
    "    json.dump(result_json, f, indent=4)"
   ]
  }
 ],
 "metadata": {
  "kernelspec": {
   "display_name": "ML",
   "language": "python",
   "name": "python3"
  },
  "language_info": {
   "codemirror_mode": {
    "name": "ipython",
    "version": 3
   },
   "file_extension": ".py",
   "mimetype": "text/x-python",
   "name": "python",
   "nbconvert_exporter": "python",
   "pygments_lexer": "ipython3",
   "version": "3.12.2"
  }
 },
 "nbformat": 4,
 "nbformat_minor": 5
}
