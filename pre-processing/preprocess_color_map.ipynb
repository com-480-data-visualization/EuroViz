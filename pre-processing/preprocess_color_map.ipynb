{
 "cells": [
  {
   "cell_type": "code",
   "execution_count": null,
   "id": "6a067e61",
   "metadata": {},
   "outputs": [],
   "source": [
    "# imports\n",
    "import numpy as np\n",
    "import pandas as pd\n",
    "import json"
   ]
  },
  {
   "cell_type": "code",
   "execution_count": null,
   "id": "0d45150b",
   "metadata": {},
   "outputs": [],
   "source": [
    "country_map = {\n",
    "    \"al\": \"Albania\", \"dz\": \"Algeria\", \"ad\": \"Andorra\", \"am\": \"Armenia\", \"au\": \"Australia\",\n",
    "    \"at\": \"Austria\", \"az\": \"Azerbaijan\", \"by\": \"Belarus\", \"be\": \"Belgium\", \"ba\": \"Bosnia and Herzegovina\",\n",
    "    \"bg\": \"Bulgaria\", \"ca\": \"Canada\", \"cn\": \"China\", \"hr\": \"Croatia\", \"cy\": \"Cyprus\",\n",
    "    \"cz\": \"Czech Republic\", \"dk\": \"Denmark\", \"ee\": \"Estonia\", \"fi\": \"Finland\", \"fr\": \"France\",\n",
    "    \"ge\": \"Georgia\", \"de\": \"Germany\", \"gr\": \"Greece\", \"hu\": \"Hungary\", \"is\": \"Iceland\",\n",
    "    \"ie\": \"Ireland\", \"il\": \"Israel\", \"it\": \"Italy\", \"lv\": \"Latvia\", \"li\": \"Liechtenstein\",\n",
    "    \"lt\": \"Lithuania\", \"lu\": \"Luxembourg\", \"mk\": \"North Macedonia\", \"mt\": \"Malta\", \"md\": \"Moldova\",\n",
    "    \"mc\": \"Monaco\", \"me\": \"Montenegro\", \"nl\": \"Netherlands\", \"no\": \"Norway\", \"pl\": \"Poland\",\n",
    "    \"pt\": \"Portugal\", \"ro\": \"Romania\", \"ru\": \"Russia\", \"sm\": \"San Marino\", \"rs\": \"Serbia\",\n",
    "    \"sk\": \"Slovakia\", \"si\": \"Slovenia\", \"es\": \"Spain\", \"se\": \"Sweden\", \"ch\": \"Switzerland\",\n",
    "    \"tr\": \"Turkey\", \"ua\": \"Ukraine\", \"gb\": \"United Kingdom\", \"us\": \"United States\", \"ye\": \"Yemen\",\n",
    "    \"yu\": \"Yugoslavia\"\n",
    "}\n",
    "\n",
    "votes_df = pd.read_csv('votes.csv')\n",
    "votes_df['to_country'] = votes_df['to_country'].map(country_map)\n",
    "votes_df['from_country'] = votes_df['from_country'].map(country_map)\n",
    "votes_df.head()"
   ]
  },
  {
   "cell_type": "code",
   "execution_count": null,
   "id": "eeadfe00",
   "metadata": {},
   "outputs": [],
   "source": [
    "incoming_votes_df = votes_df[votes_df['round'] == 'final'].drop(columns=['round', 'from_country_id', 'from_country', 'to_country_id'])\n",
    "incoming_votes_df = incoming_votes_df.groupby(['year', 'to_country']).sum().fillna(0)\n",
    "incoming_votes_df"
   ]
  },
  {
   "cell_type": "code",
   "execution_count": null,
   "id": "f4bc56c7",
   "metadata": {},
   "outputs": [],
   "source": [
    "max_votes_df = incoming_votes_df.groupby('year').max()\n",
    "max_votes_df"
   ]
  },
  {
   "cell_type": "code",
   "execution_count": null,
   "id": "6e785eaa",
   "metadata": {},
   "outputs": [],
   "source": [
    "nested_json = {}\n",
    "\n",
    "for outer_key, group_df in incoming_votes_df.groupby(level=0):\n",
    "    inner = group_df.droplevel(0)\n",
    "    nested_json[outer_key] = inner.to_dict(orient=\"index\")\n",
    "\n",
    "nested_json"
   ]
  },
  {
   "cell_type": "code",
   "execution_count": null,
   "id": "2e99ff68",
   "metadata": {},
   "outputs": [],
   "source": [
    "result_json = {}\n",
    "\n",
    "for year, countries in nested_json.items():\n",
    "    countries_json = {}\n",
    "    for country, points in countries.items():\n",
    "        if max_votes_df.loc[year]['tele_points'] != 0 and max_votes_df.loc[year]['jury_points'] != 0 :\n",
    "            votes = [int(points['total_points']), int(points['tele_points']), int(points['jury_points'])]\n",
    "            normalized = [points['total_points'] / max_votes_df.loc[year]['total_points'],\n",
    "                          points['tele_points'] / max_votes_df.loc[year]['tele_points'], \n",
    "                          points['jury_points'] / max_votes_df.loc[year]['jury_points']]\n",
    "        else:\n",
    "            votes = [int(points['total_points'])]\n",
    "            normalized = [points['total_points'] / max_votes_df.loc[year]['total_points']]\n",
    "\n",
    "        \n",
    "        countries_json[country] = {'normalized': normalized, 'votes': votes}\n",
    "\n",
    "    result_json[year] = countries_json"
   ]
  },
  {
   "cell_type": "code",
   "execution_count": null,
   "id": "159b21e6",
   "metadata": {},
   "outputs": [],
   "source": [
    "with open(\"color_map_data.json\", \"w\") as f:\n",
    "    json.dump(result_json, f, indent=4)"
   ]
  }
 ],
 "metadata": {
  "kernelspec": {
   "display_name": "ML",
   "language": "python",
   "name": "python3"
  },
  "language_info": {
   "codemirror_mode": {
    "name": "ipython",
    "version": 3
   },
   "file_extension": ".py",
   "mimetype": "text/x-python",
   "name": "python",
   "nbconvert_exporter": "python",
   "pygments_lexer": "ipython3",
   "version": "3.12.2"
  }
 },
 "nbformat": 4,
 "nbformat_minor": 5
}
