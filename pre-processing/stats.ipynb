{
 "cells": [
  {
   "cell_type": "code",
   "execution_count": 1,
   "metadata": {},
   "outputs": [],
   "source": [
    "import pandas as pd\n",
    "import json"
   ]
  },
  {
   "cell_type": "markdown",
   "metadata": {},
   "source": [
    "Load datasets"
   ]
  },
  {
   "cell_type": "code",
   "execution_count": 9,
   "metadata": {},
   "outputs": [],
   "source": [
    "contestants_df = pd.read_csv(\"contestants.csv\")\n",
    "votes_df = pd.read_csv(\"votes.csv\")"
   ]
  },
  {
   "cell_type": "markdown",
   "metadata": {},
   "source": [
    "Missing values in contestants dataset:"
   ]
  },
  {
   "cell_type": "code",
   "execution_count": null,
   "metadata": {},
   "outputs": [],
   "source": [
    "print(contestants_df.isnull().sum())\n",
    "print(votes_df.isnull().sum())"
   ]
  },
  {
   "cell_type": "markdown",
   "metadata": {},
   "source": [
    "Number of participants per year"
   ]
  },
  {
   "cell_type": "code",
   "execution_count": null,
   "metadata": {},
   "outputs": [],
   "source": [
    "participants_per_year = contestants_df.groupby(\"year\")[\"to_country\"].count()\n",
    "participants_per_year.head(5)"
   ]
  },
  {
   "cell_type": "markdown",
   "metadata": {},
   "source": [
    "Top 10 countries with the most points in finals"
   ]
  },
  {
   "cell_type": "code",
   "execution_count": null,
   "metadata": {},
   "outputs": [],
   "source": [
    "\n",
    "top_countries = contestants_df.groupby(\"to_country\")[\"points_final\"].sum().sort_values(ascending=False).head(10)\n",
    "top_countries.head(5)"
   ]
  },
  {
   "cell_type": "markdown",
   "metadata": {},
   "source": [
    "Top 10 countries with highest televote-to-jury vote ratio in finals"
   ]
  },
  {
   "cell_type": "code",
   "execution_count": null,
   "metadata": {},
   "outputs": [],
   "source": [
    "voting_comparison = contestants_df.groupby(\"to_country\")[[\"points_tele_final\", \"points_jury_final\"]].sum()\n",
    "voting_comparison[\"tele_jury_ratio\"] = voting_comparison[\"points_tele_final\"] / (voting_comparison[\"points_jury_final\"] + 1)\n",
    "voting_comparison.sort_values(\"tele_jury_ratio\", ascending=False).head(5)"
   ]
  },
  {
   "cell_type": "markdown",
   "metadata": {},
   "source": [
    "Friend voting trends (potential biases)"
   ]
  },
  {
   "cell_type": "code",
   "execution_count": null,
   "metadata": {},
   "outputs": [],
   "source": [
    "top_voting_bias = votes_df.groupby([\"from_country\", \"to_country\"])[\"total_points\"].sum().reset_index()\n",
    "top_voting_bias = top_voting_bias.sort_values(\"total_points\", ascending=False).head(10)\n",
    "top_voting_bias.head(5)"
   ]
  },
  {
   "cell_type": "markdown",
   "metadata": {},
   "source": [
    "Analyze if juryvoting and televoting favor the same countries"
   ]
  },
  {
   "cell_type": "code",
   "execution_count": null,
   "metadata": {},
   "outputs": [],
   "source": [
    "tele_vs_jury = votes_df.groupby(\"to_country\")[[\"tele_points\", \"jury_points\"]].sum()\n",
    "tele_vs_jury[\"tele_jury_diff\"] = tele_vs_jury[\"tele_points\"] - tele_vs_jury[\"jury_points\"]\n",
    "tele_vs_jury.sort_values(\"tele_jury_diff\", ascending=False).head(5)"
   ]
  },
  {
   "cell_type": "code",
   "execution_count": 87,
   "metadata": {},
   "outputs": [],
   "source": [
    "\n",
    "def get_votes(year, country):\n",
    "    test = {} \n",
    "    year_votes = votes_df[(votes_df[\"year\"] == year) & (votes_df['from_country'] == country)]\n",
    "    for _, row in year_votes.iterrows():\n",
    "        from_country = row[\"from_country\"]\n",
    "        to_country = row[\"to_country\"]\n",
    "        tot_points = int(row[\"total_points\"])\n",
    "\n",
    "        jury_points = row[\"jury_points\"]\n",
    "        tele_points = row[\"tele_points\"]\n",
    "\n",
    "        jury_points = 0 if pd.isna(jury_points) else int(jury_points)\n",
    "        tele_points = 0 if pd.isna(tele_points) else int(tele_points)\n",
    "        if tot_points == 0:\n",
    "            continue\n",
    "        if from_country not in test:\n",
    "            test[from_country] = {}\n",
    "        \n",
    "        if to_country in test[from_country]:\n",
    "            test[from_country][to_country][\"total_points\"] += tot_points\n",
    "            test[from_country][to_country][\"jury_points\"] += jury_points\n",
    "            test[from_country][to_country][\"tele_points\"] += tele_points\n",
    "        else:\n",
    "            test[from_country][to_country] = {\n",
    "                \"total_points\": tot_points,\n",
    "                \"jury_points\": jury_points,\n",
    "                \"tele_points\": tele_points\n",
    "        }\n",
    "    if test: \n",
    "        return test\n",
    "    return f'No votes from {country} in the year {year}'"
   ]
  },
  {
   "cell_type": "code",
   "execution_count": 88,
   "metadata": {},
   "outputs": [],
   "source": [
    "years = contestants_df[\"year\"].unique()\n",
    "countries = contestants_df[\"to_country\"].unique()\n",
    "result = {}\n",
    "\n",
    "for year in years:\n",
    "    year_data = contestants_df[contestants_df[\"year\"] == year]\n",
    "    \n",
    "    year_countries = {}\n",
    "    participating_count = 0\n",
    "\n",
    "    votes_map = {country: {} for country in countries}\n",
    "    for country in countries:\n",
    "        country_data = year_data[year_data[\"to_country\"] == country]\n",
    "\n",
    "        if not country_data.empty:\n",
    "            country_info = country_data.iloc[0].to_dict()\n",
    "            country_info[\"participated\"] = True\n",
    "            country_info[\"Votes\"] = get_votes(year, str(country_data[\"to_country_id\"].iloc[0]))\n",
    "            participating_count += 1\n",
    "            \n",
    "        else:\n",
    "            country_info = {\"participated\": False}\n",
    "        \n",
    "        year_countries[country] = country_info\n",
    "        result[int(year)] = {\n",
    "            \"participating_countries\": participating_count,\n",
    "            \"countries\": year_countries\n",
    "    }"
   ]
  },
  {
   "cell_type": "code",
   "execution_count": 89,
   "metadata": {},
   "outputs": [],
   "source": [
    "with open(\"eurovision_data.json\", \"w\") as json_file:\n",
    "    json.dump(result, json_file, indent=4)\n"
   ]
  }
 ],
 "metadata": {
  "kernelspec": {
   "display_name": "esc",
   "language": "python",
   "name": "python3"
  },
  "language_info": {
   "codemirror_mode": {
    "name": "ipython",
    "version": 3
   },
   "file_extension": ".py",
   "mimetype": "text/x-python",
   "name": "python",
   "nbconvert_exporter": "python",
   "pygments_lexer": "ipython3",
   "version": "3.10.16"
  }
 },
 "nbformat": 4,
 "nbformat_minor": 2
}
