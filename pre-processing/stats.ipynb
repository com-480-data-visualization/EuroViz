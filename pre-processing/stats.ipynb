{
 "cells": [
  {
   "cell_type": "code",
   "execution_count": 12,
   "metadata": {},
   "outputs": [],
   "source": [
    "import pandas as pd\n",
    "import json"
   ]
  },
  {
   "cell_type": "markdown",
   "metadata": {},
   "source": [
    "Load datasets"
   ]
  },
  {
   "cell_type": "code",
   "execution_count": 13,
   "metadata": {},
   "outputs": [],
   "source": [
    "contestants_df = pd.read_csv(\"contestants.csv\")\n",
    "votes_df = pd.read_csv(\"votes.csv\")"
   ]
  },
  {
   "cell_type": "markdown",
   "metadata": {},
   "source": [
    "Missing values in contestants dataset:"
   ]
  },
  {
   "cell_type": "code",
   "execution_count": null,
   "metadata": {},
   "outputs": [],
   "source": [
    "print(contestants_df.isnull().sum())\n",
    "print(votes_df.isnull().sum())"
   ]
  },
  {
   "cell_type": "markdown",
   "metadata": {},
   "source": [
    "Number of participants per year"
   ]
  },
  {
   "cell_type": "code",
   "execution_count": 15,
   "metadata": {},
   "outputs": [
    {
     "data": {
      "text/plain": [
       "year\n",
       "1956    12\n",
       "1957    10\n",
       "1958    10\n",
       "1959    11\n",
       "1960    13\n",
       "Name: to_country, dtype: int64"
      ]
     },
     "execution_count": 15,
     "metadata": {},
     "output_type": "execute_result"
    }
   ],
   "source": [
    "participants_per_year = contestants_df.groupby(\"year\")[\"to_country\"].count()\n",
    "participants_per_year.head(5)"
   ]
  },
  {
   "cell_type": "markdown",
   "metadata": {},
   "source": [
    "Top 10 countries with the most points in finals"
   ]
  },
  {
   "cell_type": "code",
   "execution_count": 17,
   "metadata": {},
   "outputs": [
    {
     "data": {
      "text/plain": [
       "to_country\n",
       "Sweden            6471.0\n",
       "Italy             4859.0\n",
       "United Kingdom    4571.0\n",
       "France            4373.0\n",
       "Norway            3974.0\n",
       "Name: points_final, dtype: float64"
      ]
     },
     "execution_count": 17,
     "metadata": {},
     "output_type": "execute_result"
    }
   ],
   "source": [
    "\n",
    "top_countries = contestants_df.groupby(\"to_country\")[\"points_final\"].sum().sort_values(ascending=False).head(10)\n",
    "top_countries.head(5)"
   ]
  },
  {
   "cell_type": "markdown",
   "metadata": {},
   "source": [
    "Top 10 countries with highest televote-to-jury vote ratio in finals"
   ]
  },
  {
   "cell_type": "code",
   "execution_count": 18,
   "metadata": {},
   "outputs": [
    {
     "data": {
      "text/html": [
       "<div>\n",
       "<style scoped>\n",
       "    .dataframe tbody tr th:only-of-type {\n",
       "        vertical-align: middle;\n",
       "    }\n",
       "\n",
       "    .dataframe tbody tr th {\n",
       "        vertical-align: top;\n",
       "    }\n",
       "\n",
       "    .dataframe thead th {\n",
       "        text-align: right;\n",
       "    }\n",
       "</style>\n",
       "<table border=\"1\" class=\"dataframe\">\n",
       "  <thead>\n",
       "    <tr style=\"text-align: right;\">\n",
       "      <th></th>\n",
       "      <th>points_tele_final</th>\n",
       "      <th>points_jury_final</th>\n",
       "      <th>tele_jury_ratio</th>\n",
       "    </tr>\n",
       "    <tr>\n",
       "      <th>to_country</th>\n",
       "      <th></th>\n",
       "      <th></th>\n",
       "      <th></th>\n",
       "    </tr>\n",
       "  </thead>\n",
       "  <tbody>\n",
       "    <tr>\n",
       "      <th>Poland</th>\n",
       "      <td>449.0</td>\n",
       "      <td>88.0</td>\n",
       "      <td>5.044944</td>\n",
       "    </tr>\n",
       "    <tr>\n",
       "      <th>Romania</th>\n",
       "      <td>277.0</td>\n",
       "      <td>70.0</td>\n",
       "      <td>3.901408</td>\n",
       "    </tr>\n",
       "    <tr>\n",
       "      <th>Croatia</th>\n",
       "      <td>248.0</td>\n",
       "      <td>76.0</td>\n",
       "      <td>3.220779</td>\n",
       "    </tr>\n",
       "    <tr>\n",
       "      <th>Moldova</th>\n",
       "      <td>756.0</td>\n",
       "      <td>291.0</td>\n",
       "      <td>2.589041</td>\n",
       "    </tr>\n",
       "    <tr>\n",
       "      <th>Norway</th>\n",
       "      <td>826.0</td>\n",
       "      <td>332.0</td>\n",
       "      <td>2.480480</td>\n",
       "    </tr>\n",
       "  </tbody>\n",
       "</table>\n",
       "</div>"
      ],
      "text/plain": [
       "            points_tele_final  points_jury_final  tele_jury_ratio\n",
       "to_country                                                       \n",
       "Poland                  449.0               88.0         5.044944\n",
       "Romania                 277.0               70.0         3.901408\n",
       "Croatia                 248.0               76.0         3.220779\n",
       "Moldova                 756.0              291.0         2.589041\n",
       "Norway                  826.0              332.0         2.480480"
      ]
     },
     "execution_count": 18,
     "metadata": {},
     "output_type": "execute_result"
    }
   ],
   "source": [
    "voting_comparison = contestants_df.groupby(\"to_country\")[[\"points_tele_final\", \"points_jury_final\"]].sum()\n",
    "voting_comparison[\"tele_jury_ratio\"] = voting_comparison[\"points_tele_final\"] / (voting_comparison[\"points_jury_final\"] + 1)\n",
    "voting_comparison.sort_values(\"tele_jury_ratio\", ascending=False).head(5)"
   ]
  },
  {
   "cell_type": "markdown",
   "metadata": {},
   "source": [
    "Friend voting trends (potential biases)"
   ]
  },
  {
   "cell_type": "code",
   "execution_count": 19,
   "metadata": {},
   "outputs": [
    {
     "data": {
      "text/html": [
       "<div>\n",
       "<style scoped>\n",
       "    .dataframe tbody tr th:only-of-type {\n",
       "        vertical-align: middle;\n",
       "    }\n",
       "\n",
       "    .dataframe tbody tr th {\n",
       "        vertical-align: top;\n",
       "    }\n",
       "\n",
       "    .dataframe thead th {\n",
       "        text-align: right;\n",
       "    }\n",
       "</style>\n",
       "<table border=\"1\" class=\"dataframe\">\n",
       "  <thead>\n",
       "    <tr style=\"text-align: right;\">\n",
       "      <th></th>\n",
       "      <th>from_country</th>\n",
       "      <th>to_country</th>\n",
       "      <th>total_points</th>\n",
       "    </tr>\n",
       "  </thead>\n",
       "  <tbody>\n",
       "    <tr>\n",
       "      <th>1916</th>\n",
       "      <td>no</td>\n",
       "      <td>se</td>\n",
       "      <td>527</td>\n",
       "    </tr>\n",
       "    <tr>\n",
       "      <th>598</th>\n",
       "      <td>cy</td>\n",
       "      <td>gr</td>\n",
       "      <td>513</td>\n",
       "    </tr>\n",
       "    <tr>\n",
       "      <th>770</th>\n",
       "      <td>dk</td>\n",
       "      <td>se</td>\n",
       "      <td>498</td>\n",
       "    </tr>\n",
       "    <tr>\n",
       "      <th>1093</th>\n",
       "      <td>gr</td>\n",
       "      <td>cy</td>\n",
       "      <td>488</td>\n",
       "    </tr>\n",
       "    <tr>\n",
       "      <th>923</th>\n",
       "      <td>fi</td>\n",
       "      <td>se</td>\n",
       "      <td>384</td>\n",
       "    </tr>\n",
       "  </tbody>\n",
       "</table>\n",
       "</div>"
      ],
      "text/plain": [
       "     from_country to_country  total_points\n",
       "1916           no         se           527\n",
       "598            cy         gr           513\n",
       "770            dk         se           498\n",
       "1093           gr         cy           488\n",
       "923            fi         se           384"
      ]
     },
     "execution_count": 19,
     "metadata": {},
     "output_type": "execute_result"
    }
   ],
   "source": [
    "top_voting_bias = votes_df.groupby([\"from_country\", \"to_country\"])[\"total_points\"].sum().reset_index()\n",
    "top_voting_bias = top_voting_bias.sort_values(\"total_points\", ascending=False).head(10)\n",
    "top_voting_bias.head(5)"
   ]
  },
  {
   "cell_type": "markdown",
   "metadata": {},
   "source": [
    "Analyze if juryvoting and televoting favor the same countries"
   ]
  },
  {
   "cell_type": "code",
   "execution_count": 20,
   "metadata": {},
   "outputs": [
    {
     "data": {
      "text/html": [
       "<div>\n",
       "<style scoped>\n",
       "    .dataframe tbody tr th:only-of-type {\n",
       "        vertical-align: middle;\n",
       "    }\n",
       "\n",
       "    .dataframe tbody tr th {\n",
       "        vertical-align: top;\n",
       "    }\n",
       "\n",
       "    .dataframe thead th {\n",
       "        text-align: right;\n",
       "    }\n",
       "</style>\n",
       "<table border=\"1\" class=\"dataframe\">\n",
       "  <thead>\n",
       "    <tr style=\"text-align: right;\">\n",
       "      <th></th>\n",
       "      <th>tele_points</th>\n",
       "      <th>jury_points</th>\n",
       "      <th>tele_jury_diff</th>\n",
       "    </tr>\n",
       "    <tr>\n",
       "      <th>to_country</th>\n",
       "      <th></th>\n",
       "      <th></th>\n",
       "      <th></th>\n",
       "    </tr>\n",
       "  </thead>\n",
       "  <tbody>\n",
       "    <tr>\n",
       "      <th>ua</th>\n",
       "      <td>1993.0</td>\n",
       "      <td>1015.0</td>\n",
       "      <td>978.0</td>\n",
       "    </tr>\n",
       "    <tr>\n",
       "      <th>md</th>\n",
       "      <td>1383.0</td>\n",
       "      <td>641.0</td>\n",
       "      <td>742.0</td>\n",
       "    </tr>\n",
       "    <tr>\n",
       "      <th>no</th>\n",
       "      <td>1396.0</td>\n",
       "      <td>782.0</td>\n",
       "      <td>614.0</td>\n",
       "    </tr>\n",
       "    <tr>\n",
       "      <th>pl</th>\n",
       "      <td>900.0</td>\n",
       "      <td>341.0</td>\n",
       "      <td>559.0</td>\n",
       "    </tr>\n",
       "    <tr>\n",
       "      <th>fi</th>\n",
       "      <td>1046.0</td>\n",
       "      <td>535.0</td>\n",
       "      <td>511.0</td>\n",
       "    </tr>\n",
       "  </tbody>\n",
       "</table>\n",
       "</div>"
      ],
      "text/plain": [
       "            tele_points  jury_points  tele_jury_diff\n",
       "to_country                                          \n",
       "ua               1993.0       1015.0           978.0\n",
       "md               1383.0        641.0           742.0\n",
       "no               1396.0        782.0           614.0\n",
       "pl                900.0        341.0           559.0\n",
       "fi               1046.0        535.0           511.0"
      ]
     },
     "execution_count": 20,
     "metadata": {},
     "output_type": "execute_result"
    }
   ],
   "source": [
    "tele_vs_jury = votes_df.groupby(\"to_country\")[[\"tele_points\", \"jury_points\"]].sum()\n",
    "tele_vs_jury[\"tele_jury_diff\"] = tele_vs_jury[\"tele_points\"] - tele_vs_jury[\"jury_points\"]\n",
    "tele_vs_jury.sort_values(\"tele_jury_diff\", ascending=False).head(5)"
   ]
  },
  {
   "cell_type": "code",
   "execution_count": 9,
   "metadata": {},
   "outputs": [],
   "source": [
    "\n",
    "def get_votes(year, country):\n",
    "    test = {} \n",
    "    year_votes = votes_df[(votes_df[\"year\"] == year) & (votes_df['from_country'] == country)]\n",
    "    for _, row in year_votes.iterrows():\n",
    "        from_country = row[\"from_country\"]\n",
    "        to_country = row[\"to_country\"]\n",
    "        tot_points = int(row[\"total_points\"])\n",
    "\n",
    "        jury_points = row[\"jury_points\"]\n",
    "        tele_points = row[\"tele_points\"]\n",
    "\n",
    "        jury_points = 0 if pd.isna(jury_points) else int(jury_points)\n",
    "        tele_points = 0 if pd.isna(tele_points) else int(tele_points)\n",
    "        if tot_points == 0:\n",
    "            continue\n",
    "        if from_country not in test:\n",
    "            test[from_country] = {}\n",
    "        \n",
    "        if to_country in test[from_country]:\n",
    "            test[from_country][to_country][\"total_points\"] += tot_points\n",
    "            test[from_country][to_country][\"jury_points\"] += jury_points\n",
    "            test[from_country][to_country][\"tele_points\"] += tele_points\n",
    "        else:\n",
    "            test[from_country][to_country] = {\n",
    "                \"total_points\": tot_points,\n",
    "                \"jury_points\": jury_points,\n",
    "                \"tele_points\": tele_points\n",
    "        }\n",
    "    if test: \n",
    "        return test\n",
    "    return f'No votes from {country} in the year {year}'"
   ]
  },
  {
   "cell_type": "code",
   "execution_count": 10,
   "metadata": {},
   "outputs": [],
   "source": [
    "years = contestants_df[\"year\"].unique()\n",
    "countries = contestants_df[\"to_country\"].unique()\n",
    "result = {}\n",
    "\n",
    "for year in years:\n",
    "    year_data = contestants_df[contestants_df[\"year\"] == year]\n",
    "    \n",
    "    year_countries = {}\n",
    "    participating_count = 0\n",
    "\n",
    "    votes_map = {country: {} for country in countries}\n",
    "    for country in countries:\n",
    "        country_data = year_data[year_data[\"to_country\"] == country]\n",
    "\n",
    "        if not country_data.empty:\n",
    "            country_info = country_data.iloc[0].to_dict()\n",
    "            country_info[\"participated\"] = True\n",
    "            country_info[\"Votes\"] = get_votes(year, str(country_data[\"to_country_id\"].iloc[0]))\n",
    "            participating_count += 1\n",
    "            \n",
    "        else:\n",
    "            country_info = {\"participated\": False}\n",
    "        \n",
    "        year_countries[country] = country_info\n",
    "        result[int(year)] = {\n",
    "            \"participating_countries\": participating_count,\n",
    "            \"countries\": year_countries\n",
    "    }"
   ]
  },
  {
   "cell_type": "code",
   "execution_count": 11,
   "metadata": {},
   "outputs": [],
   "source": [
    "with open(\"eurovision_data.json\", \"w\") as json_file:\n",
    "    json.dump(result, json_file, indent=4)\n"
   ]
  }
 ],
 "metadata": {
  "kernelspec": {
   "display_name": "esc",
   "language": "python",
   "name": "python3"
  },
  "language_info": {
   "codemirror_mode": {
    "name": "ipython",
    "version": 3
   },
   "file_extension": ".py",
   "mimetype": "text/x-python",
   "name": "python",
   "nbconvert_exporter": "python",
   "pygments_lexer": "ipython3",
   "version": "3.10.16"
  }
 },
 "nbformat": 4,
 "nbformat_minor": 2
}
