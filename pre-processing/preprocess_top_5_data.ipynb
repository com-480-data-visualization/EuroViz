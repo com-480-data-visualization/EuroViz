{
 "cells": [
  {
   "cell_type": "code",
   "execution_count": null,
   "id": "6a067e61",
   "metadata": {},
   "outputs": [],
   "source": [
    "# imports\n",
    "import numpy as np\n",
    "import pandas as pd\n",
    "import json"
   ]
  },
  {
   "cell_type": "code",
   "execution_count": null,
   "id": "0d45150b",
   "metadata": {},
   "outputs": [],
   "source": [
    "countries_id_df = pd.read_csv('countries_id.csv')\n",
    "country_map = countries_id_df.set_index('to_country_id')['to_country'].to_dict()\n",
    "\n",
    "votes_df = pd.read_csv('votes.csv')\n",
    "votes_df['to_country'] = votes_df['to_country'].map(country_map)\n",
    "votes_df['from_country'] = votes_df['from_country'].map(country_map)"
   ]
  },
  {
   "cell_type": "code",
   "execution_count": null,
   "id": "eeadfe00",
   "metadata": {},
   "outputs": [],
   "source": [
    "incoming_votes_df = votes_df[votes_df['round'] == 'final'].drop(columns=['round', 'from_country_id', 'from_country', 'to_country_id'])\n",
    "incoming_votes_df = incoming_votes_df.groupby(['year', 'to_country']).sum().fillna(0)\n",
    "incoming_votes_df"
   ]
  },
  {
   "cell_type": "code",
   "execution_count": null,
   "id": "d10da393",
   "metadata": {},
   "outputs": [],
   "source": [
    "contestants_df = pd.read_csv('contestants.csv')[['year', 'to_country', 'song', 'performer']]\n",
    "contestants_df"
   ]
  },
  {
   "cell_type": "code",
   "execution_count": null,
   "id": "f4bc56c7",
   "metadata": {},
   "outputs": [],
   "source": [
    "top_countries_df = incoming_votes_df.sort_values(['total_points'], ascending=False).groupby('year').head(5)\n",
    "top_countries_df = top_countries_df.sort_index()\n",
    "top_countries_df['pos'] = top_countries_df.sort_values(['total_points'], ascending=False).groupby(['year']).cumcount() + 1\n",
    "top_countries_df = top_countries_df.drop(columns=['tele_points', 'jury_points', 'total_points'])\n",
    "top_countries_df = top_countries_df.reset_index()\n",
    "top_countries_df"
   ]
  },
  {
   "cell_type": "code",
   "execution_count": null,
   "id": "0f535714",
   "metadata": {},
   "outputs": [],
   "source": [
    "result_df = pd.merge(top_countries_df, contestants_df, on=['year', 'to_country'], how='inner')\n",
    "result_df['country'] = result_df['to_country']\n",
    "result_df = result_df.drop(columns='to_country')\n",
    "result_df = result_df.set_index(['year', 'country']).drop_duplicates()\n",
    "result_df.tail(10)"
   ]
  },
  {
   "cell_type": "code",
   "execution_count": null,
   "id": "6e785eaa",
   "metadata": {},
   "outputs": [],
   "source": [
    "result_json = {}\n",
    "\n",
    "for outer_key, group_df in result_df.groupby(level=0):\n",
    "    inner = group_df.droplevel(0)\n",
    "    result_json[outer_key] = inner.to_dict(orient=\"index\")"
   ]
  },
  {
   "cell_type": "code",
   "execution_count": null,
   "id": "159b21e6",
   "metadata": {},
   "outputs": [],
   "source": [
    "with open(\"top_5_data.json\", \"w\") as f:\n",
    "    json.dump(result_json, f, indent=4)"
   ]
  }
 ],
 "metadata": {
  "kernelspec": {
   "display_name": "ML",
   "language": "python",
   "name": "python3"
  },
  "language_info": {
   "codemirror_mode": {
    "name": "ipython",
    "version": 3
   },
   "file_extension": ".py",
   "mimetype": "text/x-python",
   "name": "python",
   "nbconvert_exporter": "python",
   "pygments_lexer": "ipython3",
   "version": "3.12.2"
  }
 },
 "nbformat": 4,
 "nbformat_minor": 5
}
