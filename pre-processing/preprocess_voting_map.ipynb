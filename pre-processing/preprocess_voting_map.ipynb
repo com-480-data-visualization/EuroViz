{
 "cells": [
  {
   "cell_type": "code",
   "execution_count": null,
   "id": "6a067e61",
   "metadata": {},
   "outputs": [],
   "source": [
    "# imports\n",
    "import numpy as np\n",
    "import pandas as pd\n",
    "import json"
   ]
  },
  {
   "cell_type": "code",
   "execution_count": null,
   "id": "0d45150b",
   "metadata": {},
   "outputs": [],
   "source": [
    "countries_id_df = pd.read_csv('countries_id.csv')\n",
    "country_map = countries_id_df.set_index('to_country_id')['to_country'].to_dict()\n",
    "\n",
    "votes_df = pd.read_csv('votes.csv')\n",
    "votes_df['to_country'] = votes_df['to_country'].map(country_map)\n",
    "votes_df['from_country'] = votes_df['from_country'].map(country_map)"
   ]
  },
  {
   "cell_type": "code",
   "execution_count": null,
   "id": "bd39cff9",
   "metadata": {},
   "outputs": [],
   "source": [
    "sent_votes_df = votes_df[votes_df['round'] == 'final'].drop(columns=['round', 'from_country_id', 'to_country_id'])\n",
    "sent_votes_df = sent_votes_df.groupby(['year', 'from_country', 'to_country']).sum()\n",
    "sent_votes_df = sent_votes_df[sent_votes_df['total_points'] != 0]\n",
    "sent_votes_df['tele_points'] = sent_votes_df['tele_points'].astype(int)\n",
    "sent_votes_df['jury_points'] = sent_votes_df['jury_points'].astype(int)\n",
    "sent_votes_df"
   ]
  },
  {
   "cell_type": "code",
   "execution_count": null,
   "id": "28078d8b",
   "metadata": {},
   "outputs": [],
   "source": [
    "result_json = {}\n",
    "\n",
    "for year, year_df in sent_votes_df.groupby(level=0):\n",
    "    year_df = year_df.droplevel(0)\n",
    "    result_json[year] = {}\n",
    "\n",
    "    for from_country, from_df in year_df.groupby(level=0):\n",
    "        from_df = from_df.droplevel(0)\n",
    "        result_json[year][from_country] = from_df.to_dict(orient=\"index\")"
   ]
  },
  {
   "cell_type": "code",
   "execution_count": null,
   "id": "159b21e6",
   "metadata": {},
   "outputs": [],
   "source": [
    "with open(\"voting_map_data.json\", \"w\") as f:\n",
    "    json.dump(result_json, f, indent=4)"
   ]
  }
 ],
 "metadata": {
  "kernelspec": {
   "display_name": "ML",
   "language": "python",
   "name": "python3"
  },
  "language_info": {
   "codemirror_mode": {
    "name": "ipython",
    "version": 3
   },
   "file_extension": ".py",
   "mimetype": "text/x-python",
   "name": "python",
   "nbconvert_exporter": "python",
   "pygments_lexer": "ipython3",
   "version": "3.12.2"
  }
 },
 "nbformat": 4,
 "nbformat_minor": 5
}
