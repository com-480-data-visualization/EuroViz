{
 "cells": [
  {
   "cell_type": "code",
   "execution_count": null,
   "id": "6a067e61",
   "metadata": {},
   "outputs": [],
   "source": [
    "# imports\n",
    "import numpy as np\n",
    "import pandas as pd\n",
    "import json"
   ]
  },
  {
   "cell_type": "code",
   "execution_count": null,
   "id": "0d45150b",
   "metadata": {},
   "outputs": [],
   "source": [
    "country_map = {\n",
    "    \"nl\": \"Netherlands\",\n",
    "    \"fr\": \"France\",\n",
    "    \"dk\": \"Denmark\",\n",
    "    \"lu\": \"Luxembourg\",\n",
    "    \"de\": \"Germany\",\n",
    "    \"it\": \"Italy\",\n",
    "    \"gb\": \"United Kingdom\",\n",
    "    \"be\": \"Belgium\",\n",
    "    \"ch\": \"Switzerland\",\n",
    "    \"at\": \"Austria\",\n",
    "    \"se\": \"Sweden\",\n",
    "    \"mc\": \"Monaco\",\n",
    "    \"no\": \"Norway\",\n",
    "    \"yu\": \"Yugoslavia\",\n",
    "    \"es\": \"Spain\",\n",
    "    \"fi\": \"Finland\",\n",
    "    \"pt\": \"Portugal\",\n",
    "    \"ie\": \"Ireland\",\n",
    "    \"mt\": \"Malta\",\n",
    "    \"il\": \"Israel\",\n",
    "    \"gr\": \"Greece\",\n",
    "    \"tr\": \"Turkey\",\n",
    "    \"ma\": \"Morocco\",\n",
    "    \"cy\": \"Cyprus\",\n",
    "    \"is\": \"Iceland\",\n",
    "    \"hr\": \"Croatia\",\n",
    "    \"ba\": \"Bosnia and Herzegovina\",\n",
    "    \"si\": \"Slovenia\",\n",
    "    \"pl\": \"Poland\",\n",
    "    \"hu\": \"Hungary\",\n",
    "    \"ru\": \"Russia\",\n",
    "    \"sk\": \"Slovakia\",\n",
    "    \"ro\": \"Romania\",\n",
    "    \"ee\": \"Estonia\",\n",
    "    \"lt\": \"Lithuania\",\n",
    "    \"mk\": \"North Macedonia\",\n",
    "    \"lv\": \"Latvia\",\n",
    "    \"ua\": \"Ukraine\",\n",
    "    \"cs\": \"Serbia and Montenegro\",\n",
    "    \"al\": \"Albania\",\n",
    "    \"ad\": \"Andorra\",\n",
    "    \"by\": \"Belarus\",\n",
    "    \"md\": \"Moldova\",\n",
    "    \"bg\": \"Bulgaria\",\n",
    "    \"am\": \"Armenia\",\n",
    "    \"rs\": \"Serbia\",\n",
    "    \"ge\": \"Georgia\",\n",
    "    \"me\": \"Montenegro\",\n",
    "    \"cz\": \"Czech Republic\",\n",
    "    \"az\": \"Azerbaijan\",\n",
    "    \"sm\": \"San Marino\",\n",
    "    \"au\": \"Australia\"\n",
    "}\n",
    "\n",
    "votes_df = pd.read_csv('votes.csv')\n",
    "votes_df['to_country'] = votes_df['to_country'].map(country_map)\n",
    "votes_df['from_country'] = votes_df['from_country'].map(country_map)"
   ]
  },
  {
   "cell_type": "code",
   "execution_count": null,
   "id": "bd39cff9",
   "metadata": {},
   "outputs": [],
   "source": [
    "sent_votes_df = votes_df[votes_df['round'] == 'final'].drop(columns=['round', 'from_country_id', 'to_country_id'])\n",
    "sent_votes_df = sent_votes_df.groupby(['year', 'from_country', 'to_country']).sum()\n",
    "sent_votes_df = sent_votes_df[sent_votes_df['total_points'] != 0]\n",
    "sent_votes_df['tele_points'] = sent_votes_df['tele_points'].astype(int)\n",
    "sent_votes_df['jury_points'] = sent_votes_df['jury_points'].astype(int)\n",
    "sent_votes_df"
   ]
  },
  {
   "cell_type": "code",
   "execution_count": null,
   "id": "28078d8b",
   "metadata": {},
   "outputs": [],
   "source": [
    "nested_json = {}\n",
    "\n",
    "for year, year_df in sent_votes_df.groupby(level=0):\n",
    "    year_df = year_df.droplevel(0)\n",
    "    nested_json[year] = {}\n",
    "\n",
    "    for from_country, from_df in year_df.groupby(level=0):\n",
    "        from_df = from_df.droplevel(0)\n",
    "        nested_json[year][from_country] = from_df.to_dict(orient=\"index\")"
   ]
  },
  {
   "cell_type": "code",
   "execution_count": null,
   "id": "159b21e6",
   "metadata": {},
   "outputs": [],
   "source": [
    "result_json = nested_json\n",
    "with open(\"voting_map_data.json\", \"w\") as f:\n",
    "    json.dump(result_json, f, indent=4)"
   ]
  }
 ],
 "metadata": {
  "kernelspec": {
   "display_name": "ML",
   "language": "python",
   "name": "python3"
  },
  "language_info": {
   "codemirror_mode": {
    "name": "ipython",
    "version": 3
   },
   "file_extension": ".py",
   "mimetype": "text/x-python",
   "name": "python",
   "nbconvert_exporter": "python",
   "pygments_lexer": "ipython3",
   "version": "3.12.2"
  }
 },
 "nbformat": 4,
 "nbformat_minor": 5
}
